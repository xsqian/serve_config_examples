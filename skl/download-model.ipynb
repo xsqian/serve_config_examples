{
 "cells": [
  {
   "cell_type": "code",
   "execution_count": 9,
   "id": "2d0b4093-0123-4317-b16b-6142e6f476ff",
   "metadata": {},
   "outputs": [
    {
     "name": "stdout",
     "output_type": "stream",
     "text": [
      "model_spec.yaml  sk_model.pkl\n"
     ]
    }
   ],
   "source": [
    "! ls /v3io/projects/skl-admin/artifacts/auto-trainer-train/0/model"
   ]
  },
  {
   "cell_type": "code",
   "execution_count": 10,
   "id": "060320f7-7d7b-4d32-b7b3-d48fe727ec1f",
   "metadata": {},
   "outputs": [],
   "source": [
    "cp /v3io/projects/skl-admin/artifacts/auto-trainer-train/0/model/sk_model.pkl ../"
   ]
  },
  {
   "cell_type": "code",
   "execution_count": 11,
   "id": "efe0590a-6f69-49fa-b360-730a7afbe65d",
   "metadata": {},
   "outputs": [],
   "source": [
    "cp /v3io/projects/skl-admin/artifacts/auto-trainer-train/0/model/model_spec.yaml ../"
   ]
  },
  {
   "cell_type": "code",
   "execution_count": null,
   "id": "60f2b6a7-6f3f-4666-a9c6-cf66ea57562f",
   "metadata": {},
   "outputs": [],
   "source": []
  }
 ],
 "metadata": {
  "kernelspec": {
   "display_name": "mlrun-base",
   "language": "python",
   "name": "conda-env-mlrun-base-py"
  },
  "language_info": {
   "codemirror_mode": {
    "name": "ipython",
    "version": 3
   },
   "file_extension": ".py",
   "mimetype": "text/x-python",
   "name": "python",
   "nbconvert_exporter": "python",
   "pygments_lexer": "ipython3",
   "version": "3.9.16"
  }
 },
 "nbformat": 4,
 "nbformat_minor": 5
}
